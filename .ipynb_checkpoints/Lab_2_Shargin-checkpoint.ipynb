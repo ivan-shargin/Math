{
 "cells": [
  {
   "cell_type": "markdown",
   "id": "d7100596",
   "metadata": {},
   "source": [
    "# Лабораторная работа 2. Элементы линейной алгебры. Шаргин Иван"
   ]
  },
  {
   "cell_type": "code",
   "execution_count": 3,
   "id": "89d9d472",
   "metadata": {},
   "outputs": [],
   "source": [
    "import numpy as np\n",
    "import matplotlib.pyplot as plt"
   ]
  },
  {
   "cell_type": "markdown",
   "id": "504e7043",
   "metadata": {},
   "source": [
    "Решим СЛАУ A * u = f "
   ]
  },
  {
   "cell_type": "markdown",
   "id": "ce58e9f7",
   "metadata": {},
   "source": [
    "## 1. Метод Гаусса"
   ]
  },
  {
   "cell_type": "markdown",
   "id": "a31fadad",
   "metadata": {},
   "source": [
    "Функция Gauss_solve реализует метод Гаусса, принимает на вход матрицу A, вектор правой части f, возвращает решение u"
   ]
  },
  {
   "cell_type": "code",
   "execution_count": 4,
   "id": "b560127d",
   "metadata": {},
   "outputs": [],
   "source": [
    "def Gauss_solve(A, f):\n",
    "    \"\"\"Функция Gauss_solve реализует метод Гаусса, \n",
    "    принимает на вход матрицу A, вектор правой части f, \n",
    "    возвращает решение u\"\"\"\n",
    "    return Gauss_reverse(enumerate(straight_Gauss(A, f)))\n",
    "    \n",
    "    "
   ]
  },
  {
   "cell_type": "code",
   "execution_count": 40,
   "id": "2aea1d7f",
   "metadata": {},
   "outputs": [
    {
     "ename": "IndentationError",
     "evalue": "unindent does not match any outer indentation level (<tokenize>, line 5)",
     "output_type": "error",
     "traceback": [
      "\u001b[1;36m  File \u001b[1;32m\"<tokenize>\"\u001b[1;36m, line \u001b[1;32m5\u001b[0m\n\u001b[1;33m    leading_element_inds = np.transpose(np.nonzero(np.abs(A) == np.abs(A).max()))[0]\u001b[0m\n\u001b[1;37m    ^\u001b[0m\n\u001b[1;31mIndentationError\u001b[0m\u001b[1;31m:\u001b[0m unindent does not match any outer indentation level\n"
     ]
    }
   ],
   "source": [
    "def straight_Gauss(A, f):\n",
    "     \"\"\"Функция Gauss_solve реализует прямой метод Гаусса, \n",
    "    принимает на вход матрицу A, вектор правой части f, \n",
    "    возвращает кортеж (верхнетреугольная матрица, преобразованный вектор)\"\"\"\n",
    "    leading_element_inds = np.transpose(np.nonzero(np.abs(A) == np.abs(A).max()))[0]\n",
    "    \n",
    "    "
   ]
  },
  {
   "cell_type": "code",
   "execution_count": 8,
   "id": "11ded718",
   "metadata": {},
   "outputs": [],
   "source": [
    "def reverse_Gauss(R, f_):\n",
    "     \"\"\"Функция Gauss_solve реализует обратный ход метода Гаусса, \n",
    "    принимает на вход верхнетреугольную матрицу R, преобразованный \n",
    "    прямым ходом метода вектор правой части f_, \n",
    "    возвращает решение u\"\"\"\n",
    "    "
   ]
  },
  {
   "cell_type": "code",
   "execution_count": 29,
   "id": "845e9115",
   "metadata": {},
   "outputs": [
    {
     "name": "stdout",
     "output_type": "stream",
     "text": [
      "[0 2]\n"
     ]
    }
   ],
   "source": [
    "A = np.array([[1, 2, -300], [4, 5, 6], [7, -8, 0]])\n",
    "leading_element_inds = np.transpose(np.nonzero(np.abs(A) == np.abs(A).max()))[0]\n",
    "print(leading_element_inds)"
   ]
  }
 ],
 "metadata": {
  "kernelspec": {
   "display_name": "Python 3.9.5 64-bit",
   "language": "python",
   "name": "python395jvsc74a57bd0e0c39c2aa61344fb27ff6fb4f3a259e590cdda2eaea03f0e509c852643cc86c0"
  },
  "language_info": {
   "codemirror_mode": {
    "name": "ipython",
    "version": 3
   },
   "file_extension": ".py",
   "mimetype": "text/x-python",
   "name": "python",
   "nbconvert_exporter": "python",
   "pygments_lexer": "ipython3",
   "version": "3.9.5"
  }
 },
 "nbformat": 4,
 "nbformat_minor": 5
}
