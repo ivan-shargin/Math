{
 "cells": [
  {
   "cell_type": "markdown",
   "id": "1bcff797",
   "metadata": {},
   "source": [
    "# Лабораторная работа 2. Элементы линейной алгебры. Шаргин Иван"
   ]
  },
  {
   "cell_type": "code",
   "execution_count": 8,
   "id": "ddbe48cb",
   "metadata": {},
   "outputs": [],
   "source": [
    "import numpy as np\n",
    "import matplotlib.pyplot as plt"
   ]
  },
  {
   "cell_type": "markdown",
   "id": "364acb2e",
   "metadata": {},
   "source": [
    "Решим СЛАУ A * u = f "
   ]
  },
  {
   "cell_type": "markdown",
   "id": "503f1510",
   "metadata": {},
   "source": [
    "## 1. Метод Гаусса"
   ]
  },
  {
   "cell_type": "markdown",
   "id": "3fa6a4ad",
   "metadata": {},
   "source": [
    "Функция Gauss_solve реализует метод Гаусса, принимает на вход матрицу A, вектор правой части f, возвращает решение u"
   ]
  },
  {
   "cell_type": "code",
   "execution_count": 9,
   "id": "bb48bea6",
   "metadata": {},
   "outputs": [],
   "source": [
    "def Gauss_solve(A, f):\n",
    "    \"\"\"Функция Gauss_solve реализует метод Гаусса, \n",
    "    принимает на вход матрицу A, вектор правой части f, \n",
    "    возвращает решение u\"\"\"\n",
    "    return Gauss_reverse(enumerate(straight_Gauss(A, f)))\n",
    "    \n",
    "    "
   ]
  },
  {
   "cell_type": "code",
   "execution_count": 13,
   "id": "4a764e57",
   "metadata": {},
   "outputs": [],
   "source": [
    "def str_Gauss_step(A_f):\n",
    "    \"\"\"One step of the Gauss algorithm\"\"\"\n",
    "    \n",
    "    for i in range(1, A_f.shape[0]):\n",
    "        k = A_f[i, 0] / A_f[0, 0]\n",
    "        A_f[i, :] = A_f[i, :] - A_f[0, :] * k\n",
    "    return A_f"
   ]
  },
  {
   "cell_type": "code",
   "execution_count": 63,
   "id": "71ed7160",
   "metadata": {},
   "outputs": [],
   "source": [
    "def straight_Gauss(A, f):\n",
    "    \"\"\"Функция Gauss_solve реализует прямой метод Гаусса, \n",
    "    принимает на вход матрицу A, вектор правой части f, \n",
    "    возвращает кортеж (верхнетреугольная матрица, преобразованный вектор)\"\"\"\n",
    "    leading_element_inds = np.transpose(np.nonzero(np.abs(A) == np.abs(A).max()))[0]\n",
    "    A_f = np.hstack((A, f))\n",
    "    A_f[[0, leading_element_inds[0]]] = A_f[[leading_element_inds[0], 0]]\n",
    "    A_f[:, [0, leading_element_inds[1]]] = A_f[:, [leading_element_inds[1], 0]]\n",
    "    \n",
    "    for j in range(0, A_f.shape[0]):\n",
    "        for i in range(j + 1, A_f.shape[0]):\n",
    "            k = A_f[i, j] / A_f[j, j]\n",
    "            A_f[i, j:] = A_f[i, j:] - A_f[j, j:] * k\n",
    "            \n",
    "#     for j in range(A_f.shape[0] - 1, 0, -1):\n",
    "#         for i in range(j - 1, -1, -1):\n",
    "#             k = A_f[i, j] / A_f[j, j]\n",
    "#             A_f[i, :] = A_f[i, :] - A_f[j, :] * k\n",
    "    \n",
    "    \n",
    "    return A_f    \n",
    "    \n",
    " \n",
    "   \n",
    "    \n"
   ]
  },
  {
   "cell_type": "code",
   "execution_count": 51,
   "id": "743bfccc",
   "metadata": {},
   "outputs": [
    {
     "name": "stdout",
     "output_type": "stream",
     "text": [
      "10\n",
      "9\n",
      "8\n",
      "7\n",
      "6\n",
      "5\n",
      "4\n",
      "3\n",
      "2\n",
      "1\n",
      "0\n"
     ]
    }
   ],
   "source": [
    "for k in range(10, -1, -1):\n",
    "    print(k)"
   ]
  },
  {
   "cell_type": "code",
   "execution_count": 64,
   "id": "039eae92",
   "metadata": {},
   "outputs": [
    {
     "name": "stdout",
     "output_type": "stream",
     "text": [
      "[[ 1  0  0]\n",
      " [ 0  1  0]\n",
      " [10  0  1]]\n",
      "[[10.    0.    1.    0.3 ]\n",
      " [ 0.    1.    0.    0.2 ]\n",
      " [ 0.    0.   -0.1   0.07]]\n"
     ]
    }
   ],
   "source": [
    "A_test = np.array([[1, 0, 0 ], [0, 1, 0], [10, 0, 1]])\n",
    "print(A_test)\n",
    "f_test = np.array([[0.1], [0.2], [0.3]])\n",
    "print(straight_Gauss(A_test, f_test))"
   ]
  },
  {
   "cell_type": "code",
   "execution_count": null,
   "id": "8998154b",
   "metadata": {},
   "outputs": [],
   "source": [
    "def reverse_Gauss(R, f_):\n",
    "     \"\"\"Функция Gauss_solve реализует обратный ход метода Гаусса, \n",
    "    принимает на вход верхнетреугольную матрицу R, преобразованный \n",
    "    прямым ходом метода вектор правой части f_, \n",
    "    возвращает решение u\"\"\"\n",
    "    "
   ]
  },
  {
   "cell_type": "code",
   "execution_count": 7,
   "id": "8f16b482",
   "metadata": {},
   "outputs": [
    {
     "name": "stdout",
     "output_type": "stream",
     "text": [
      "[0 2]\n"
     ]
    }
   ],
   "source": [
    "A = np.array([[1, 2, -300], [4, 5, 6], [7, -8, 0]])\n",
    "leading_element_inds = np.transpose(np.nonzero(np.abs(A) == np.abs(A).max()))[0]\n",
    "print(leading_element_inds)"
   ]
  }
 ],
 "metadata": {
  "kernelspec": {
   "display_name": "Python 3.9.5 64-bit",
   "language": "python",
   "name": "python395jvsc74a57bd0e0c39c2aa61344fb27ff6fb4f3a259e590cdda2eaea03f0e509c852643cc86c0"
  },
  "language_info": {
   "codemirror_mode": {
    "name": "ipython",
    "version": 3
   },
   "file_extension": ".py",
   "mimetype": "text/x-python",
   "name": "python",
   "nbconvert_exporter": "python",
   "pygments_lexer": "ipython3",
   "version": "3.9.5"
  }
 },
 "nbformat": 4,
 "nbformat_minor": 5
}
